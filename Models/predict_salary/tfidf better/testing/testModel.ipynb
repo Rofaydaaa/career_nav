{
 "cells": [
  {
   "cell_type": "code",
   "execution_count": 5,
   "metadata": {},
   "outputs": [
    {
     "name": "stderr",
     "output_type": "stream",
     "text": [
      "C:\\Users\\admin\\AppData\\Local\\Temp\\ipykernel_11228\\237404137.py:5: DtypeWarning: Columns (13,16,18,19,20,21,22,23,24,25,26,27,28,29,30,31,32,33,34,35,36,37,38,39,40,41,42,43,44,45,46,47,48,49,50,51,52,53,54,55,56,57,58,59,60,61,62,63,64,65,66,67,68,69,70,71,72,73,74,75,76,77,78,79,80,81,82,83,84,85,86,87,88,89,90,91,92,93,94,95,96,97,98,99,100,101,102,103,104,105,106,107,108,109,110,111,112,113,114,115,116,117,118,119,120,121,122,123,124,125,126,127,128,129,130,131,132,133,134,135,136,137,138,139,140,141,142,143,144,145,146,147,148,149,150,151,152,153,154,155,156,157,158,159,160,161,162,163,164,165,166,167,168,169,170,171,172,173,174,175,176,177,178,179,180,181,182,183,184,185,186,187,188,189,190,191,192,193,194,195,196,197,198,199,200,201,202,203,204,205,206,207,208,209,210,211,212,213,214,215,216,217,218,219,220,221,222,223,224,225,226,227,228,229,230,233,234,235,236,238,239,242,244) have mixed types. Specify dtype option on import or set low_memory=False.\n",
      "  df = pd.read_csv('final_output_processed.csv')\n"
     ]
    },
    {
     "name": "stdout",
     "output_type": "stream",
     "text": [
      "Predicted Salary (using loaded model): [8304.26840282]\n"
     ]
    },
    {
     "name": "stderr",
     "output_type": "stream",
     "text": [
      "C:\\Users\\admin\\AppData\\Roaming\\Python\\Python311\\site-packages\\sklearn\\base.py:348: InconsistentVersionWarning: Trying to unpickle estimator LinearRegression from version 1.2.2 when using version 1.3.2. This might lead to breaking code or invalid results. Use at your own risk. For more info please refer to:\n",
      "https://scikit-learn.org/stable/model_persistence.html#security-maintainability-limitations\n",
      "  warnings.warn(\n"
     ]
    }
   ],
   "source": [
    "import pickle\n",
    "from sklearn.feature_extraction.text import TfidfVectorizer\n",
    "import pandas as pd\n",
    "df = pd.read_csv('final_output_processed.csv')\n",
    "\n",
    "df = df[['salary', 'orgTags_SKILLS', 'position_name','position_workType']]\n",
    "\n",
    "df = df.dropna()\n",
    "\n",
    "df = df[(df['orgTags_SKILLS'] != 'NOT FOUND') & (df['salary'] != 'NOT FOUND')]\n",
    "df = df[(df['position_workType'] != 'NOT FOUND')]\n",
    "\n",
    "df = df[df['salary'].str.contains('[a-zA-Z]')==False]\n",
    "\n",
    "df['salary'] = df['salary'].astype(float).astype(int)\n",
    "\n",
    "df = df[(df['salary'] != 0) & (df['salary'] < 20000)]\n",
    "\n",
    "df['combined_text'] = df['orgTags_SKILLS'] + ' ' + df['position_name']+ ' ' + df['position_workType']\n",
    "\n",
    "tfidf_vectorizer = TfidfVectorizer()\n",
    "combined_matrix = tfidf_vectorizer.fit_transform(df['combined_text'])\n",
    "\n"
   ]
  },
  {
   "cell_type": "code",
   "execution_count": 8,
   "metadata": {},
   "outputs": [
    {
     "name": "stdout",
     "output_type": "stream",
     "text": [
      "Predicted Salary (using loaded model): [10301.87658355]\n"
     ]
    }
   ],
   "source": [
    "with open('linear_regression_tfidf.pkl', 'rb') as file:\n",
    "    loaded_model = pickle.load(file)\n",
    "\n",
    "input_data = {\n",
    "    'orgTags_SKILLS': 'python, machine learning,java,figma',\n",
    "    'position_name': 'data scientist',\n",
    "    'position_workType': 'full-time'\n",
    "}\n",
    "\n",
    "combined_text = input_data['orgTags_SKILLS'] + ' ' + input_data['position_name'] + ' ' + input_data['position_workType']\n",
    "input_matrix = tfidf_vectorizer.transform([combined_text])\n",
    "\n",
    "predicted_salary = loaded_model.predict(input_matrix)\n",
    "\n",
    "print(\"Predicted Salary (using loaded model):\", predicted_salary)"
   ]
  }
 ],
 "metadata": {
  "kernelspec": {
   "display_name": "Python 3",
   "language": "python",
   "name": "python3"
  },
  "language_info": {
   "codemirror_mode": {
    "name": "ipython",
    "version": 3
   },
   "file_extension": ".py",
   "mimetype": "text/x-python",
   "name": "python",
   "nbconvert_exporter": "python",
   "pygments_lexer": "ipython3",
   "version": "3.11.2"
  }
 },
 "nbformat": 4,
 "nbformat_minor": 2
}
